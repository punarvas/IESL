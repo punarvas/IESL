{
 "cells": [
  {
   "cell_type": "markdown",
   "id": "a7c3f029-c2ae-4a59-8ad9-712d6bcd6c68",
   "metadata": {
    "jp-MarkdownHeadingCollapsed": true
   },
   "source": [
    "## Daewoo Steel Factory dataset (building-level electricity forecasting)"
   ]
  },
  {
   "cell_type": "code",
   "execution_count": null,
   "id": "e3ef0b2a-30ee-4c71-bb0c-2a1e4cce9e0c",
   "metadata": {},
   "outputs": [],
   "source": [
    "from datasets.data_loader import Dataset\n",
    "\n",
    "d = Dataset(\"datasets/data.json\")\n",
    "dataset = d.get_data(\"daewoo\")\n",
    "df = dataset[\"Steel_industry_data\"]\n",
    "\n",
    "df.head()"
   ]
  },
  {
   "cell_type": "code",
   "execution_count": null,
   "id": "88be4f48-09bb-4718-bea7-8b77ac594ad0",
   "metadata": {},
   "outputs": [],
   "source": [
    "week_status = {}\n",
    "day_number = {}\n",
    "\n",
    "for i, s in enumerate(df.WeekStatus.unique()):\n",
    "    week_status[s] = 0 if i == 1 else 1\n",
    "\n",
    "for i, d in enumerate(df.Day_of_week.unique()):\n",
    "    day_number[d] = i + 1"
   ]
  },
  {
   "cell_type": "code",
   "execution_count": null,
   "id": "0862fca8-aa00-4385-aa84-c56c15aaaa94",
   "metadata": {},
   "outputs": [],
   "source": [
    "df_copy = df[[\"date\", \"Day_of_week\", \"WeekStatus\", \"NSM\", \"Leading_Current_Reactive_Power_kVarh\", \"Leading_Current_Power_Factor\",\n",
    "        \"Lagging_Current_Reactive.Power_kVarh\", \"Lagging_Current_Power_Factor\", \"CO2(tCO2)\", \"Usage_kWh\"]].copy()\n",
    "\n",
    "df_copy.head()"
   ]
  },
  {
   "cell_type": "code",
   "execution_count": null,
   "id": "0cdfe982-5321-43d6-aa96-67e7ecc0a1b8",
   "metadata": {},
   "outputs": [],
   "source": [
    "import pandas as pd\n",
    "\n",
    "df_copy[\"date\"] = pd.to_datetime(df[\"date\"], format=\"%d/%m/%Y %H:%M\")\n",
    "df_copy.set_index(\"date\", inplace=True)\n",
    "df_copy.head()"
   ]
  },
  {
   "cell_type": "code",
   "execution_count": null,
   "id": "60734157-ee22-4f92-9200-e95168d09326",
   "metadata": {},
   "outputs": [],
   "source": [
    "df_copy[\"Day_of_week\"] = df_copy[\"Day_of_week\"].apply(lambda x: day_number[x])\n",
    "df_copy[\"WeekStatus\"] = df_copy[\"WeekStatus\"].apply(lambda x: week_status[x])\n",
    "\n",
    "df_copy = df_copy.resample('H').mean()"
   ]
  },
  {
   "cell_type": "code",
   "execution_count": null,
   "id": "7ded863d-38b6-42d8-87b3-f5cb341f41e9",
   "metadata": {},
   "outputs": [],
   "source": [
    "df_copy.index.min(), df_copy.index.max()"
   ]
  },
  {
   "cell_type": "code",
   "execution_count": null,
   "id": "841b4cbd-af66-4ef5-afc8-3dd39a55b224",
   "metadata": {},
   "outputs": [],
   "source": [
    "df_copy.corr().round(5).loc[\"Usage_kWh\"]"
   ]
  },
  {
   "cell_type": "code",
   "execution_count": null,
   "id": "da1aca70-dd66-4c72-b155-7b51f1f981b1",
   "metadata": {},
   "outputs": [],
   "source": [
    "import os\n",
    "\n",
    "plots_dir = \"plots\"\n",
    "if not os.path.exists(plots_dir):\n",
    "    os.mkdir(plots_dir)\n",
    "    print(\"Directory created.\")\n",
    "else:\n",
    "    print(\"Directory already exists.\")"
   ]
  },
  {
   "cell_type": "code",
   "execution_count": null,
   "id": "06a26502-105e-4992-abab-19d68c4dbd8a",
   "metadata": {},
   "outputs": [],
   "source": [
    "import matplotlib.pyplot as plt\n",
    "\n",
    "n_weeks = 10\n",
    "idx = int(n_weeks * 7 * 24)\n",
    "\n",
    "plt.figure(figsize=(20, 6)).set_dpi(128)\n",
    "plt.plot(df_copy[\"Usage_kWh\"].iloc[:idx], label=\"Usage in kWh\")\n",
    "#plt.plot(hourly_df[\"Day_of_week\"].iloc[:idx] * 10, label=\"Day of week\")\n",
    "plt.plot(df_copy[\"WeekStatus\"].iloc[:idx] * 10, label=\"Week status\")\n",
    "plt.legend()\n",
    "\n",
    "plt.xlabel(\"Date\")\n",
    "plt.ylabel(\"Usage in kWh\")\n",
    "plt.title(\"Daewoo Steel Plant (10-week Electricity Usage in kWh)\")\n",
    "\n",
    "fig = plt.gcf()  # Get current figure\n",
    "note_text = \"** High signal in week status show WEEKDAY and low signal shows WEEKEND\"\n",
    "x_center = 0.25  # Center of the plot in figure coordinates (0 to 1)\n",
    "y_below_xlabel = 0  # Adjust this for note position relative to x-label\n",
    "note = fig.text(x_center, y_below_xlabel, note_text, ha=\"center\", va=\"bottom\")\n",
    "\n",
    "fname = f\"{plots_dir}/10_week_usage_daewoo.png\"\n",
    "# plt.savefig(fname, dpi=256, bbox_inches=\"tight\")\n",
    "plt.show()"
   ]
  },
  {
   "cell_type": "code",
   "execution_count": null,
   "id": "10ce1e10-ba59-48f2-bb10-18317654e34d",
   "metadata": {},
   "outputs": [],
   "source": [
    "cols = [col for col in df_copy.columns if \"Usage\" not in col]\n",
    "\n",
    "row, col = (2, 3)\n",
    "fig, axes = plt.subplots(row, col, figsize=(20, 10))\n",
    "\n",
    "k = 0\n",
    "x = \"Usage_kWh\"\n",
    "for i in range(row):\n",
    "    for j in range(col):\n",
    "        y = cols[k]\n",
    "        axes[i, j].scatter(df_copy[y], df_copy[x], c=df_copy[y])\n",
    "        axes[i, j].set_xlabel(y)\n",
    "        axes[i, j].set_ylabel(\"Usage in kWh\")\n",
    "        k += 1\n",
    "\n",
    "plt.tight_layout()\n",
    "\n",
    "fname = f\"{plots_dir}/correlation_daewoo.png\"\n",
    "plt.savefig(fname, dpi=256, bbox_inches=\"tight\")\n",
    "plt.show()"
   ]
  },
  {
   "cell_type": "code",
   "execution_count": null,
   "id": "aea993a4-48ba-496b-b9a2-f737759eaad8",
   "metadata": {},
   "outputs": [],
   "source": [
    "import seaborn as sns\n",
    "import matplotlib.pyplot as plt\n",
    "import warnings\n",
    "\n",
    "warnings.filterwarnings(\"ignore\")\n",
    "\n",
    "row, col = (3, 3)\n",
    "fig, axes = plt.subplots(row, col, figsize=(20, 18))\n",
    "cols = df_copy.columns\n",
    "\n",
    "k = 0\n",
    "for i in range(row):\n",
    "    for j in range(col):\n",
    "        x = cols[k]\n",
    "        sns.histplot(df_copy, x=x, bins=50, ax=axes[i, j], kde=True)\n",
    "        k = k + 1\n",
    "\n",
    "fig.suptitle(\"Feature-wise distribution charts for Daewoo Steel Factory Dataset\")\n",
    "fig.tight_layout()\n",
    "fig.subplots_adjust(top=0.95)\n",
    "\n",
    "fname = f\"{plots_dir}/distribution_daewoo.png\"\n",
    "plt.savefig(fname, dpi=512, bbox_inches=\"tight\")\n",
    "plt.show()"
   ]
  },
  {
   "cell_type": "code",
   "execution_count": null,
   "id": "670e82be-768e-4c5b-899b-80e600d50e87",
   "metadata": {},
   "outputs": [],
   "source": [
    "desc = df_copy.iloc[:, 2:].describe()\n",
    "desc.to_csv(\"daewoo.csv\")\n",
    "\n",
    "desc"
   ]
  },
  {
   "cell_type": "markdown",
   "id": "09db5f83-de4a-43e7-91e5-5a9d75cf8b65",
   "metadata": {
    "jp-MarkdownHeadingCollapsed": true
   },
   "source": [
    "## Lawrence Berkley National Lab dataset (building-level Heating forecasting)"
   ]
  },
  {
   "cell_type": "markdown",
   "id": "93dcbfea-35b8-42b4-8ac5-db87c226f403",
   "metadata": {
    "jp-MarkdownHeadingCollapsed": true
   },
   "source": [
    "### Preprocessing the dataset"
   ]
  },
  {
   "cell_type": "code",
   "execution_count": null,
   "id": "1a7691bc-918a-4f7e-9998-a191f7ec38c4",
   "metadata": {},
   "outputs": [],
   "source": [
    "from datasets.data_loader import Dataset\n",
    "\n",
    "d = Dataset(\"datasets/data.json\")\n",
    "dataset = d.get_data(\"lawber\")\n",
    "print(\"Load successful\")\n",
    "\n",
    "dataset[\"data\"].head()"
   ]
  },
  {
   "cell_type": "code",
   "execution_count": null,
   "id": "b82c16d1-0e2e-451a-88cb-33115c8c7f90",
   "metadata": {},
   "outputs": [],
   "source": [
    "# set first column of each dataset as the time index of the dataframe\n",
    "import pandas as pd\n",
    "\n",
    "for key, df in dataset.items():\n",
    "    index_col = df.columns[0]\n",
    "    df.rename(columns = {index_col: \"timestamp\"}, inplace=True)\n",
    "    index_col = \"timestamp\"\n",
    "    df[index_col] = pd.to_datetime(df[index_col])\n",
    "    df.set_index(index_col, inplace=True)\n",
    "\n",
    "    df_select_cols = [col for col in df.columns if (\"qc_\" not in col) and (\"Unnamed\" not in col)]\n",
    "    df = df[df_select_cols]\n",
    "    dataset[key] = df"
   ]
  },
  {
   "cell_type": "code",
   "execution_count": null,
   "id": "6b206b23-647f-4552-a021-55d4e5d066c0",
   "metadata": {},
   "outputs": [],
   "source": [
    "for key in dataset.keys():\n",
    "    print(key, dataset[key].columns)\n",
    "    print(\"-------\")"
   ]
  },
  {
   "cell_type": "markdown",
   "id": "17410962-d93e-4fb6-897a-4e8eba2b0bfd",
   "metadata": {},
   "source": [
    "##### Aggregating data points column-wise to form building-level data "
   ]
  },
  {
   "cell_type": "code",
   "execution_count": null,
   "id": "86e81a5a-c340-4d93-9225-c74c95a91d18",
   "metadata": {},
   "outputs": [],
   "source": [
    "# Adding since electricity is measured separately for S and N wing\n",
    "dataset[\"ele\"][\"electricity\"] = dataset[\"ele\"][\"mels_S\"] + dataset[\"ele\"][\"mels_N\"] \n",
    "\n",
    "# We assume south wing light load as a whole for the full building\n",
    "dataset[\"ele\"].rename(columns={\"lig_S\": \"light\"}, inplace=True)\n",
    "\n",
    "# adding since HVAC is measured separately for S and N wing\n",
    "dataset[\"ele\"][\"hvac\"] = dataset[\"ele\"][\"hvac_S\"] + dataset[\"ele\"][\"hvac_N\"]\n",
    "\n",
    "dataset[\"ele\"] = dataset[\"ele\"][[\"electricity\", \"light\", \"hvac\"]]\n",
    "dataset[\"ele\"].head()"
   ]
  },
  {
   "cell_type": "code",
   "execution_count": null,
   "id": "686b6c4b-f00b-41d3-b8d8-11500cbc9753",
   "metadata": {},
   "outputs": [],
   "source": [
    "# Print missing records\n",
    "print(dataset[\"ele\"].isna().sum())\n",
    "\n",
    "# Linear interpolation for missing values\n",
    "dataset[\"ele\"] = dataset[\"ele\"].interpolate()"
   ]
  },
  {
   "cell_type": "code",
   "execution_count": null,
   "id": "79ae1a16-2b6c-4057-a46d-6700ce59ad29",
   "metadata": {},
   "outputs": [],
   "source": []
  }
 ],
 "metadata": {
  "kernelspec": {
   "display_name": "Python 3 (ipykernel)",
   "language": "python",
   "name": "python3"
  },
  "language_info": {
   "codemirror_mode": {
    "name": "ipython",
    "version": 3
   },
   "file_extension": ".py",
   "mimetype": "text/x-python",
   "name": "python",
   "nbconvert_exporter": "python",
   "pygments_lexer": "ipython3",
   "version": "3.11.7"
  }
 },
 "nbformat": 4,
 "nbformat_minor": 5
}
