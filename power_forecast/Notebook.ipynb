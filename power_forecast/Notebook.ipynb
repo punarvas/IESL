{
 "cells": [
  {
   "cell_type": "code",
   "execution_count": null,
   "id": "e3ef0b2a-30ee-4c71-bb0c-2a1e4cce9e0c",
   "metadata": {},
   "outputs": [],
   "source": [
    "from data_loader import Dataset\n",
    "\n",
    "d = Dataset(\"data.json\")\n",
    "dataset = d.get_data(\"daewoo\")\n",
    "d = dataset[\"Steel_industry_data\"]"
   ]
  },
  {
   "cell_type": "code",
   "execution_count": null,
   "id": "c5248610-9432-4568-8af4-674d317aed63",
   "metadata": {},
   "outputs": [],
   "source": []
  }
 ],
 "metadata": {
  "kernelspec": {
   "display_name": "Python 3 (ipykernel)",
   "language": "python",
   "name": "python3"
  },
  "language_info": {
   "codemirror_mode": {
    "name": "ipython",
    "version": 3
   },
   "file_extension": ".py",
   "mimetype": "text/x-python",
   "name": "python",
   "nbconvert_exporter": "python",
   "pygments_lexer": "ipython3",
   "version": "3.11.7"
  }
 },
 "nbformat": 4,
 "nbformat_minor": 5
}
