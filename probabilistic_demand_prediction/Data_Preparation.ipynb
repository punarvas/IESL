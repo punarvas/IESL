{
 "cells": [
  {
   "cell_type": "markdown",
   "id": "877096e6-ce6f-4638-a717-f80e319c4c2c",
   "metadata": {},
   "source": [
    "## Preparing Building Dataset"
   ]
  },
  {
   "cell_type": "markdown",
   "id": "c2c46806-9d46-4115-94a1-7b88d6abebcb",
   "metadata": {},
   "source": [
    "**Authors:** Akash Mahajan, Van-Hai Bui\n",
    "\n",
    "This code creates a dataset file from raw datasets with time specific, weather, and building-specific features. \n",
    "\n",
    "Output files are:\n",
    "- `data.csv`: CSV file containing final dataset\n",
    "- `stats.json`: Basic statistics on the `data.csv` that is useful for time series transformation and inverse-transformation"
   ]
  },
  {
   "cell_type": "markdown",
   "id": "f73109e8-4c3e-4399-a557-d5e1230039b6",
   "metadata": {},
   "source": [
    "#### Necessary imports"
   ]
  },
  {
   "cell_type": "code",
   "execution_count": null,
   "id": "13cc1d73-ed3c-44f8-8a81-ccc80ca86192",
   "metadata": {},
   "outputs": [],
   "source": [
    "# Standard packages\n",
    "import pandas as pd\n",
    "import numpy as np\n",
    "import matplotlib.pyplot as plt\n",
    "import os\n",
    "import json\n",
    "\n",
    "# Custom packages and functions\n",
    "from utils.data_loader import Dataset\n",
    "from utils.data_loader import get_dummies, is_weekend, is_work_hour, standardize"
   ]
  },
  {
   "cell_type": "markdown",
   "id": "c5ef86aa-d4cf-4dd3-865c-3d8dcc19aa72",
   "metadata": {},
   "source": [
    "##### 1. Loading dataset from internet or local source (Please read in the README.md)"
   ]
  },
  {
   "cell_type": "code",
   "execution_count": null,
   "id": "b97768d9-bc26-40e8-a748-45adf4405384",
   "metadata": {},
   "outputs": [],
   "source": [
    "d = Dataset(\"metainf.json\")\n",
    "dataset = d.get_data(\"lawber\")\n",
    "print(\"Load successful\")\n",
    "\n",
    "df = dataset[\"data\"]\n",
    "df.head()"
   ]
  },
  {
   "cell_type": "markdown",
   "id": "f9cdacd7-9e43-402d-ade1-1fec68716485",
   "metadata": {},
   "source": [
    "##### 2. Merge electricity and hvac consumption"
   ]
  },
  {
   "cell_type": "code",
   "execution_count": null,
   "id": "1bdf7381-c936-4307-8515-324480811cf7",
   "metadata": {},
   "outputs": [],
   "source": [
    "df_copy = df.copy()\n",
    "df_copy[\"elec_kW\"] = df_copy[\"elec_N_kW\"] + df_copy[\"elec_S_kW\"]   # Electricity and HVAC are reported separated for North and South wing\n",
    "df_copy[\"hvac_kW\"] = df_copy[\"hvac_N_kW\"] + df_copy[\"hvac_S_kW\"]"
   ]
  },
  {
   "cell_type": "code",
   "execution_count": null,
   "id": "acc31690-6f3f-4063-ae5d-23a1092ea234",
   "metadata": {},
   "outputs": [],
   "source": [
    "# Set timestamp index\n",
    "df_copy[\"timestamp\"] = pd.to_datetime(df_copy[\"timestamp\"])\n",
    "df_copy.set_index(\"timestamp\", inplace=True)"
   ]
  },
  {
   "cell_type": "markdown",
   "id": "67884da4-1b98-41c8-94d6-605bd2fef024",
   "metadata": {},
   "source": [
    "#### 3. Feature Engineering"
   ]
  },
  {
   "cell_type": "markdown",
   "id": "a54d4cc0-916c-45b0-802e-2fe23bd44b31",
   "metadata": {},
   "source": [
    "##### 3.1. Seasons of the year"
   ]
  },
  {
   "cell_type": "code",
   "execution_count": null,
   "id": "e9d20acb-0170-4d20-b7d3-4b3c5d89eacf",
   "metadata": {},
   "outputs": [],
   "source": [
    "seasons = {1:4, 2:4, 3:1, \n",
    "           4:1, 5:1, 6:2, \n",
    "           7:2, 8:2, 9:3, \n",
    "           10:3, 11:3, 12:4}\n",
    "\n",
    "season_names = [\"is_spring\", \"is_summer\", \"is_autumn\", \"is_winter\"]\n",
    "\n",
    "season_of_year = pd.Series(list(map(lambda x: seasons[x], df_copy.index.month)), \n",
    "                           name=\"season_of_year\", index=df_copy.index)\n",
    "\n",
    "season_of_year = get_dummies(season_of_year, season_names)\n",
    "df_copy = pd.concat((df_copy, season_of_year), axis=1)"
   ]
  },
  {
   "cell_type": "markdown",
   "id": "1826c8c6-fd2b-46da-a7cb-65525d8b7c98",
   "metadata": {},
   "source": [
    "##### 3.2. Weekend status (If current day is weekend)"
   ]
  },
  {
   "cell_type": "code",
   "execution_count": null,
   "id": "f51251f5-ce73-432c-8ccc-821cea8e53e1",
   "metadata": {},
   "outputs": [],
   "source": [
    "day_of_week = df_copy.index.day_of_week + 1\n",
    "weekend_days = list(map(lambda x: is_weekend(x), day_of_week))\n",
    "weekend_days = pd.Series(weekend_days, name=\"is_weekend\", index=df_copy.index)\n",
    "\n",
    "column_names = [\"is_weekday\", \"is_weekend\"]\n",
    "weekend_days = get_dummies(weekend_days, column_names)\n",
    "\n",
    "df_copy = pd.concat((df_copy, weekend_days), axis=1)"
   ]
  },
  {
   "cell_type": "markdown",
   "id": "f776c527-b39b-4ab4-8408-a5f1e35f700a",
   "metadata": {},
   "source": [
    "##### 3.3. Building schedule (Building 59 runs between 8 AM to 5 PM)"
   ]
  },
  {
   "cell_type": "code",
   "execution_count": null,
   "id": "be56dc08-a733-40b6-9efa-8aca01137442",
   "metadata": {},
   "outputs": [],
   "source": [
    "hour_of_day = df_copy.index.hour\n",
    "work_hour = [is_work_hour(d, h) for d, h in zip(day_of_week, hour_of_day)]\n",
    "work_hour = pd.Series(work_hour, name=\"is_work_hour\", index=df_copy.index)\n",
    "\n",
    "work_hour = get_dummies(work_hour, [\"is_off_duty\", \"is_on_duty\"])\n",
    "df_copy = pd.concat((df_copy, work_hour), axis=1)"
   ]
  },
  {
   "cell_type": "markdown",
   "id": "603666b2-45cc-4ff7-8d1b-c7a6bd54c4e7",
   "metadata": {},
   "source": [
    "#### 4. Data Preprocessing"
   ]
  },
  {
   "cell_type": "markdown",
   "id": "2463c259-5a98-423d-90ba-6d117bd0a43a",
   "metadata": {},
   "source": [
    "##### 4.1. Z-score normalization\n",
    "\n",
    "$$\n",
    "\\begin{flalign*}\n",
    "T' = \\frac{T - \\mu}{\\sigma} &&\n",
    "\\end{flalign*}\n",
    "$$\n",
    "\n",
    "`mu` and `sigma` are the mean and standard deviation of the time series, respectively.  "
   ]
  },
  {
   "cell_type": "code",
   "execution_count": null,
   "id": "044cf39e-01fa-4ee0-8c1b-64d4cf5f292d",
   "metadata": {},
   "outputs": [],
   "source": [
    "# Select all columns\n",
    "df_new = df_copy[['is_spring', 'is_summer', 'is_autumn', 'is_winter', 'is_weekday', 'is_weekend', 'is_off_duty', \n",
    "                  'is_on_duty', 'Interior_Zone_temp_mean', 'solar_radiation', 'relative_humidity', \n",
    "                  'air_temperature', 'wind_speed', 'elec_kW', 'hvac_kW']].copy()\n",
    "\n",
    "const = 1e-1\n",
    "df_new[\"elec_kW\"] = np.log(df_new[\"elec_kW\"] + const)  # Target series are log-transformed for reducing seasonality\n",
    "df_new[\"hvac_kW\"] = np.log(df_new[\"hvac_kW\"] + const)\n",
    "\n",
    "stats = {}\n",
    "\n",
    "y = df_new[\"elec_kW\"]   # Z-score normalization of the electricity time series\n",
    "elec_kW, elec_kW_mean, elec_kW_std = standardize(y)\n",
    "stats[\"elec_kW_mean\"] = elec_kW_mean\n",
    "stats[\"elec_kW_std\"] = elec_kW_std\n",
    "\n",
    "y = df_new[\"hvac_kW\"]   # Z-score normalization of the HVAC time series\n",
    "hvac_kW, hvac_kW_mean, hvac_kW_std = standardize(y)\n",
    "stats[\"hvac_kW_mean\"] = hvac_kW_mean\n",
    "stats[\"hvac_kW_std\"] = hvac_kW_std\n",
    "\n",
    "df_new[\"elec_kW\"] = elec_kW\n",
    "df_new[\"hvac_kW\"] = hvac_kW"
   ]
  },
  {
   "cell_type": "markdown",
   "id": "041cb1fe-5145-470c-9f20-0c236252db63",
   "metadata": {},
   "source": [
    "##### 4.2. Autocorrelation Analysis\n",
    "\n",
    "- This is important stage to enquire which lag `k` has highest impact on the current time `t`. Therefore, the value which has highest autcorrelation with `t` is used as a lag i.e. `t-k`.\n",
    "- Instead of checking for each lag `k`, we can use predefined autocorrelation function in Pandas."
   ]
  },
  {
   "cell_type": "code",
   "execution_count": null,
   "id": "e3d7803f-5022-4d91-a8b4-0251fe709886",
   "metadata": {},
   "outputs": [],
   "source": [
    "plt.figure(figsize=(10, 4)).set_dpi(128)\n",
    "\n",
    "y = df_new[\"hvac_kW\"].copy()\n",
    "pd.plotting.autocorrelation_plot(y, label=\"hvac_kW\")\n",
    "\n",
    "y = df_new[\"elec_kW\"].copy()\n",
    "pd.plotting.autocorrelation_plot(y, label=\"elec_kW\")\n",
    "\n",
    "plt.title(\"Autocorrelation of Electricity and HVAC with its respective lags upto 168\")\n",
    "plt.xlim([0, 168])\n",
    "plt.legend()\n",
    "plt.grid(True)\n",
    "plt.show()"
   ]
  },
  {
   "cell_type": "markdown",
   "id": "4babb8fc-c842-4749-b72c-96db162b2f8e",
   "metadata": {},
   "source": [
    "**From the above analysis, we select both 24-hour (day ago) and 168-hour (week ago) lag for Electricity and HVAC**"
   ]
  },
  {
   "cell_type": "code",
   "execution_count": null,
   "id": "0b442889-b54b-47bb-9de9-f54aeb3852ed",
   "metadata": {},
   "outputs": [],
   "source": [
    "lags = [24, 168]\n",
    "lag_timediff = {}\n",
    "\n",
    "for lag in lags: \n",
    "    timediff = lag * np.ones(shape = (df_new.shape[0],))   # Stores index for 't-k' value where k E {24, 168}\n",
    "    # Deal with first 'lag' entries\n",
    "    for i , diff in enumerate(timediff[:lag + 1]):    # First day (first 24/168 entries) do not have corresponding lags hence use their own value as lag\n",
    "        timediff[i] = min(diff, i)\n",
    "    lag_timediff[lag] = timediff"
   ]
  },
  {
   "cell_type": "code",
   "execution_count": null,
   "id": "ad52900a-1a5c-4de8-8441-fe2b62a12762",
   "metadata": {},
   "outputs": [],
   "source": [
    "df_new_index = df_new.index\n",
    "df_new_copy = df_new.copy()\n",
    "\n",
    "for target in [\"elec_kW\", \"hvac_kW\"]:\n",
    "    for lag, timediff in lag_timediff.items():\n",
    "        y = df_new[[target]].copy()\n",
    "        latest_lag_index = df_new_index - pd.to_timedelta(timediff, unit='H')  # Copy the t-k lag values to corresponding time 't'\n",
    "        latest_lag = y.loc[latest_lag_index].copy()\n",
    "        latest_lag.index = df_new_index\n",
    "        latest_lag = latest_lag.add_prefix(f'lag_{lag}_')\n",
    "        df_new_copy = pd.concat([latest_lag, df_new_copy], axis=1)"
   ]
  },
  {
   "cell_type": "markdown",
   "id": "364adab9-2791-4767-ab5f-0b761ce7cc77",
   "metadata": {},
   "source": [
    "##### Save the data"
   ]
  },
  {
   "cell_type": "code",
   "execution_count": null,
   "id": "4daedbcc-95f2-4840-8e51-2f95cb16b925",
   "metadata": {},
   "outputs": [],
   "source": [
    "output_folder = \"output\"\n",
    "os.makedirs(output_folder, exist_ok=True)\n",
    "\n",
    "data_filename = f\"{output_folder}/data.csv\"\n",
    "stats_filename = f\"{output_folder}/stats.json\"\n",
    "\n",
    "df_new_copy.to_csv(data_filename, index=True)\n",
    "with open(stats_filename, \"w\") as file:\n",
    "    json.dump(stats, file, indent=4)"
   ]
  }
 ],
 "metadata": {
  "kernelspec": {
   "display_name": "Python 3 (ipykernel)",
   "language": "python",
   "name": "python3"
  },
  "language_info": {
   "codemirror_mode": {
    "name": "ipython",
    "version": 3
   },
   "file_extension": ".py",
   "mimetype": "text/x-python",
   "name": "python",
   "nbconvert_exporter": "python",
   "pygments_lexer": "ipython3",
   "version": "3.11.7"
  }
 },
 "nbformat": 4,
 "nbformat_minor": 5
}
