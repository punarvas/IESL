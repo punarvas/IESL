{
 "cells": [
  {
   "cell_type": "markdown",
   "id": "565fa011-ed9d-4c55-8f74-3b52e5a46b9f",
   "metadata": {},
   "source": [
    "### Training Bayesian Neural Network\n",
    "**Authors:** Akash Mahajan, Van-Hai Bui"
   ]
  },
  {
   "cell_type": "code",
   "execution_count": null,
   "id": "9ee3bc30-4a26-4ebe-a181-74b1f3f44eae",
   "metadata": {},
   "outputs": [],
   "source": [
    "# Import packages\n",
    "import pandas as pd\n",
    "import numpy as np\n",
    "\n",
    "from torch.nn import Softplus\n",
    "from torch.utils.data import DataLoader\n",
    "from torch.optim import Adam\n",
    "from torch.nn import GaussianNLLLoss\n",
    "\n",
    "from utils.Datasets import TimeSeriesDataset\n",
    "from utils.Network import NetConfig, TrainConfig\n",
    "from utils.Priors import GaussianPrior, Prior\n",
    "from utils.nn.BayesianNN import BayesianNN\n",
    "from utils.Network import Trainer"
   ]
  },
  {
   "cell_type": "markdown",
   "id": "5a1a7646-7dce-4018-857f-7155ce783083",
   "metadata": {},
   "source": [
    "#### 1. Importing dataset"
   ]
  },
  {
   "cell_type": "code",
   "execution_count": null,
   "id": "7434685b-7ed0-496c-8c62-9d34e389a589",
   "metadata": {},
   "outputs": [],
   "source": [
    "df = pd.read_csv(\"output/data.csv\", parse_dates=True)\n",
    "\n",
    "# setting the time index\n",
    "df[\"timestamp\"] = pd.to_datetime(df[\"timestamp\"])\n",
    "df.set_index(\"timestamp\", inplace=True)\n",
    "df.head()"
   ]
  },
  {
   "cell_type": "code",
   "execution_count": null,
   "id": "1d5867bc-ce84-477e-83bf-627a4618d798",
   "metadata": {},
   "outputs": [],
   "source": [
    "# Standardize only the continous feature variables, not categorical variables\n",
    "from utils.data_loader import standardize\n",
    "\n",
    "x_std_features = ['Interior_Zone_temp_mean', 'solar_radiation', 'relative_humidity', 'air_temperature', 'wind_speed']\n",
    "std_features, _, _ = standardize(df[x_std_features])\n",
    "\n",
    "df[x_std_features] = std_features\n",
    "df.head()"
   ]
  },
  {
   "cell_type": "code",
   "execution_count": null,
   "id": "7f8d813a-0e25-4e71-9c30-8edf7d774f2b",
   "metadata": {},
   "outputs": [],
   "source": [
    "# two and half years of data for training and half years of data for testing \n",
    "start_train = \"2018-01-01\"\n",
    "end_train = \"2020-06-30\"\n",
    "start_test = \"2020-07-01\"\n",
    "end_test = \"2020-12-31\"\n",
    "\n",
    "# Demand\n",
    "target = \"elec_kW\"\n",
    "y_columns = [target]\n",
    "\n",
    "x_columns = [c for c in df.columns if c != target]\n",
    "print(\"Targets:\", y_columns)\n",
    "print(\"Input features:\", x_columns)"
   ]
  },
  {
   "cell_type": "code",
   "execution_count": null,
   "id": "3d90200f-170f-4064-805f-37fd746132ae",
   "metadata": {},
   "outputs": [],
   "source": [
    "historical_sequence_length = 24\n",
    "test_idx = df[start_test:end_test].index[historical_sequence_length:].to_numpy()\n",
    "\n",
    "# Save test index for later use\n",
    "np.save(\"output/test_index.npy\", test_idx)"
   ]
  },
  {
   "cell_type": "code",
   "execution_count": null,
   "id": "a332723d-befd-4a91-ad54-60b2fc5dca7f",
   "metadata": {},
   "outputs": [],
   "source": [
    "# splitting training and testing datatset (Future development: validation data)\n",
    "x_train = df[x_columns][start_train:end_train].values\n",
    "y_train = df[y_columns][start_train:end_train].values\n",
    "x_test = df[x_columns][start_test:end_test].values\n",
    "y_test = df[y_columns][start_test:end_test].values"
   ]
  },
  {
   "cell_type": "code",
   "execution_count": null,
   "id": "d027ebfa-0001-4dec-af7e-02cea7f29b91",
   "metadata": {},
   "outputs": [],
   "source": [
    "x_train.shape, y_train.shape, x_test.shape, y_test.shape"
   ]
  },
  {
   "cell_type": "code",
   "execution_count": null,
   "id": "2ffe6820-08f7-4436-a251-1b665fa5eec4",
   "metadata": {},
   "outputs": [],
   "source": [
    "# Training parameters\n",
    "sequential = False\n",
    "batch_size = 64\n",
    "historical_sequence_length = 24\n",
    "\n",
    "train_data = TimeSeriesDataset(x_train, y_train, historical_sequence_length, sequential)\n",
    "# train_stats = train_data.transform()\n",
    "train_loader = DataLoader(train_data, batch_size=batch_size, drop_last=False, shuffle=False, num_workers=0)\n",
    "\n",
    "test_data = TimeSeriesDataset(x_test, y_test, historical_sequence_length, sequential)\n",
    "# test_stats = test_data.transform()\n",
    "test_loader = DataLoader(test_data, batch_size=batch_size, drop_last=False, shuffle=False, num_workers=0)"
   ]
  },
  {
   "cell_type": "markdown",
   "id": "88cf56df-75eb-4133-a1c3-18ca130db224",
   "metadata": {},
   "source": [
    "#### Training"
   ]
  },
  {
   "cell_type": "code",
   "execution_count": null,
   "id": "ae0dc126-6e58-43f9-b5e3-05f5cc4c04d2",
   "metadata": {},
   "outputs": [],
   "source": [
    "input_units = x_train.shape[-1] * historical_sequence_length\n",
    "output_units = y_train.shape[-1]\n",
    "\n",
    "prior = GaussianPrior(mean=0, spread=0.1)\n",
    "net_config = NetConfig(prior, input_units, output_units, output_activation=Softplus(), model_name=\"BayesianNN\")\n",
    "\n",
    "print(\"Model input units:\", input_units)\n",
    "print(\"Model output units:\", output_units)"
   ]
  },
  {
   "cell_type": "code",
   "execution_count": null,
   "id": "8bef2ff4-9485-4c7a-8b28-ce5401e0a0cc",
   "metadata": {},
   "outputs": [],
   "source": [
    "# Building the model\n",
    "layer_units = [512, 512, 128]\n",
    "\n",
    "for n_units in layer_units:\n",
    "    net_config.add_layer(n_units)\n",
    "\n",
    "model = BayesianNN(net_config)"
   ]
  },
  {
   "cell_type": "code",
   "execution_count": null,
   "id": "e1cb38f1-ba18-4418-808b-5d1113c2d14a",
   "metadata": {},
   "outputs": [],
   "source": [
    "# Additional training parameters\n",
    "epochs = 2000\n",
    "learning_rate = 1e-4  # 0.0001\n",
    "\n",
    "target_folder = f\"Bayesian_ELEC_{epochs}_{learning_rate}_{batch_size}\"\n",
    "\n",
    "loss = GaussianNLLLoss(full=True, reduction='sum')\n",
    "optimizer = Adam(model.parameters(), lr=learning_rate, weight_decay=0)\n",
    "\n",
    "train_config = TrainConfig(batch_size=batch_size, epochs=epochs, optimizer=optimizer, \n",
    "                           learning_rate=learning_rate, loss=loss, save_folder=target_folder)"
   ]
  },
  {
   "cell_type": "code",
   "execution_count": null,
   "id": "74fed228-ee2a-49a8-954d-0d3e379f5990",
   "metadata": {
    "scrolled": true
   },
   "outputs": [],
   "source": [
    "# Training\n",
    "trainer = Trainer(train_loader, test_loader, model, train_config)\n",
    "train_history = trainer.fit()   # This line automatically saves trained model"
   ]
  },
  {
   "cell_type": "code",
   "execution_count": null,
   "id": "ec2994b7-a848-4779-9e06-5c9b00330818",
   "metadata": {},
   "outputs": [],
   "source": [
    "# Save the training history\n",
    "train_history.to_file(model_name=target_folder, config=train_config)"
   ]
  }
 ],
 "metadata": {
  "kernelspec": {
   "display_name": "Python 3 (ipykernel)",
   "language": "python",
   "name": "python3"
  },
  "language_info": {
   "codemirror_mode": {
    "name": "ipython",
    "version": 3
   },
   "file_extension": ".py",
   "mimetype": "text/x-python",
   "name": "python",
   "nbconvert_exporter": "python",
   "pygments_lexer": "ipython3",
   "version": "3.11.7"
  }
 },
 "nbformat": 4,
 "nbformat_minor": 5
}
